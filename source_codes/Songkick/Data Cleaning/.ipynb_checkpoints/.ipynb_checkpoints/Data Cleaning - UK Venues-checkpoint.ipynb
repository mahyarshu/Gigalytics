{
 "cells": [
  {
   "cell_type": "markdown",
   "metadata": {},
   "source": [
    "# Data Cleaning - ukVenues"
   ]
  },
  {
   "cell_type": "code",
   "execution_count": 1,
   "metadata": {},
   "outputs": [],
   "source": [
    "import pandas as pd\n",
    "ukVenues = pd.read_csv(\"C:/Users/isaac/OneDrive - Sheffield Hallam University/SHU/Advanced Data Management Project/Assessment/Data Cleaning/Dirty data/Cleaning/ukVenues.csv\")"
   ]
  },
  {
   "cell_type": "code",
   "execution_count": 2,
   "metadata": {
    "scrolled": true
   },
   "outputs": [
    {
     "data": {
      "text/html": [
       "<div>\n",
       "<style scoped>\n",
       "    .dataframe tbody tr th:only-of-type {\n",
       "        vertical-align: middle;\n",
       "    }\n",
       "\n",
       "    .dataframe tbody tr th {\n",
       "        vertical-align: top;\n",
       "    }\n",
       "\n",
       "    .dataframe thead th {\n",
       "        text-align: right;\n",
       "    }\n",
       "</style>\n",
       "<table border=\"1\" class=\"dataframe\">\n",
       "  <thead>\n",
       "    <tr style=\"text-align: right;\">\n",
       "      <th></th>\n",
       "      <th>venueID</th>\n",
       "      <th>venueName</th>\n",
       "      <th>venueStreet</th>\n",
       "      <th>venuePostcode</th>\n",
       "      <th>venueCity</th>\n",
       "      <th>venueCountry</th>\n",
       "      <th>venueCapacity</th>\n",
       "      <th>venueWebsite</th>\n",
       "      <th>venuePhone</th>\n",
       "    </tr>\n",
       "  </thead>\n",
       "  <tbody>\n",
       "    <tr>\n",
       "      <td>0</td>\n",
       "      <td>1561</td>\n",
       "      <td>The Sugarmill</td>\n",
       "      <td>Brunswick Street</td>\n",
       "      <td>ST1 1DR</td>\n",
       "      <td>Stoke On Trent</td>\n",
       "      <td>UK</td>\n",
       "      <td>400.0</td>\n",
       "      <td>http://www.thesugarmill.co.uk/</td>\n",
       "      <td>01782 214991</td>\n",
       "    </tr>\n",
       "    <tr>\n",
       "      <td>1</td>\n",
       "      <td>1584</td>\n",
       "      <td>The Yorkshire House</td>\n",
       "      <td>2 Parliament Street</td>\n",
       "      <td>LA1 1DB</td>\n",
       "      <td>Lancaster</td>\n",
       "      <td>UK</td>\n",
       "      <td>NaN</td>\n",
       "      <td>NaN</td>\n",
       "      <td>NaN</td>\n",
       "    </tr>\n",
       "    <tr>\n",
       "      <td>2</td>\n",
       "      <td>1596</td>\n",
       "      <td>The Mint Lounge</td>\n",
       "      <td>46 - 50 Oldham Street Northern Quarter</td>\n",
       "      <td>M4 1LE</td>\n",
       "      <td>Manchester</td>\n",
       "      <td>UK</td>\n",
       "      <td>NaN</td>\n",
       "      <td>NaN</td>\n",
       "      <td>NaN</td>\n",
       "    </tr>\n",
       "    <tr>\n",
       "      <td>3</td>\n",
       "      <td>1602</td>\n",
       "      <td>South</td>\n",
       "      <td>4a King Street Deansgate</td>\n",
       "      <td>M2 6DQ</td>\n",
       "      <td>Manchester</td>\n",
       "      <td>UK</td>\n",
       "      <td>NaN</td>\n",
       "      <td>NaN</td>\n",
       "      <td>NaN</td>\n",
       "    </tr>\n",
       "    <tr>\n",
       "      <td>4</td>\n",
       "      <td>1620</td>\n",
       "      <td>Harewood House</td>\n",
       "      <td>Harewood Estate</td>\n",
       "      <td>LS17 9LG</td>\n",
       "      <td>Leeds</td>\n",
       "      <td>UK</td>\n",
       "      <td>NaN</td>\n",
       "      <td>NaN</td>\n",
       "      <td>NaN</td>\n",
       "    </tr>\n",
       "    <tr>\n",
       "      <td>...</td>\n",
       "      <td>...</td>\n",
       "      <td>...</td>\n",
       "      <td>...</td>\n",
       "      <td>...</td>\n",
       "      <td>...</td>\n",
       "      <td>...</td>\n",
       "      <td>...</td>\n",
       "      <td>...</td>\n",
       "      <td>...</td>\n",
       "    </tr>\n",
       "    <tr>\n",
       "      <td>6971</td>\n",
       "      <td>4377199</td>\n",
       "      <td>Radcliffe Market</td>\n",
       "      <td>NaN</td>\n",
       "      <td>NaN</td>\n",
       "      <td>Radcliffe</td>\n",
       "      <td>UK</td>\n",
       "      <td>NaN</td>\n",
       "      <td>NaN</td>\n",
       "      <td>NaN</td>\n",
       "    </tr>\n",
       "    <tr>\n",
       "      <td>6972</td>\n",
       "      <td>4377342</td>\n",
       "      <td>Waterfront Hall Auditorium</td>\n",
       "      <td>NaN</td>\n",
       "      <td>NaN</td>\n",
       "      <td>Belfast</td>\n",
       "      <td>UK</td>\n",
       "      <td>NaN</td>\n",
       "      <td>NaN</td>\n",
       "      <td>NaN</td>\n",
       "    </tr>\n",
       "    <tr>\n",
       "      <td>6973</td>\n",
       "      <td>4378026</td>\n",
       "      <td>Bagster House</td>\n",
       "      <td>Walton Lane</td>\n",
       "      <td>TW178LP</td>\n",
       "      <td>Shepperton</td>\n",
       "      <td>UK</td>\n",
       "      <td>150.0</td>\n",
       "      <td>https://www.sheppertonjazzclub.co.uk/</td>\n",
       "      <td>NaN</td>\n",
       "    </tr>\n",
       "    <tr>\n",
       "      <td>6974</td>\n",
       "      <td>4379381</td>\n",
       "      <td>Hrh Metal</td>\n",
       "      <td>NaN</td>\n",
       "      <td>NaN</td>\n",
       "      <td>Birmingham</td>\n",
       "      <td>UK</td>\n",
       "      <td>NaN</td>\n",
       "      <td>NaN</td>\n",
       "      <td>NaN</td>\n",
       "    </tr>\n",
       "    <tr>\n",
       "      <td>6975</td>\n",
       "      <td>4380113</td>\n",
       "      <td>Copper Bar</td>\n",
       "      <td>38 Castle Street</td>\n",
       "      <td>SA1 1HZ</td>\n",
       "      <td>Swansea</td>\n",
       "      <td>UK</td>\n",
       "      <td>NaN</td>\n",
       "      <td>https://www.facebook.com/pg/CopperBarSwansea/</td>\n",
       "      <td>01792 456689</td>\n",
       "    </tr>\n",
       "  </tbody>\n",
       "</table>\n",
       "<p>6976 rows × 9 columns</p>\n",
       "</div>"
      ],
      "text/plain": [
       "      venueID                   venueName  \\\n",
       "0        1561               The Sugarmill   \n",
       "1        1584         The Yorkshire House   \n",
       "2        1596             The Mint Lounge   \n",
       "3        1602                       South   \n",
       "4        1620              Harewood House   \n",
       "...       ...                         ...   \n",
       "6971  4377199            Radcliffe Market   \n",
       "6972  4377342  Waterfront Hall Auditorium   \n",
       "6973  4378026               Bagster House   \n",
       "6974  4379381                   Hrh Metal   \n",
       "6975  4380113                  Copper Bar   \n",
       "\n",
       "                                 venueStreet venuePostcode       venueCity  \\\n",
       "0                           Brunswick Street       ST1 1DR  Stoke On Trent   \n",
       "1                        2 Parliament Street       LA1 1DB       Lancaster   \n",
       "2     46 - 50 Oldham Street Northern Quarter        M4 1LE      Manchester   \n",
       "3                   4a King Street Deansgate        M2 6DQ      Manchester   \n",
       "4                            Harewood Estate      LS17 9LG           Leeds   \n",
       "...                                      ...           ...             ...   \n",
       "6971                                     NaN           NaN       Radcliffe   \n",
       "6972                                     NaN           NaN         Belfast   \n",
       "6973                             Walton Lane       TW178LP      Shepperton   \n",
       "6974                                     NaN           NaN      Birmingham   \n",
       "6975                        38 Castle Street       SA1 1HZ         Swansea   \n",
       "\n",
       "     venueCountry  venueCapacity  \\\n",
       "0              UK          400.0   \n",
       "1              UK            NaN   \n",
       "2              UK            NaN   \n",
       "3              UK            NaN   \n",
       "4              UK            NaN   \n",
       "...           ...            ...   \n",
       "6971           UK            NaN   \n",
       "6972           UK            NaN   \n",
       "6973           UK          150.0   \n",
       "6974           UK            NaN   \n",
       "6975           UK            NaN   \n",
       "\n",
       "                                       venueWebsite    venuePhone  \n",
       "0                    http://www.thesugarmill.co.uk/  01782 214991  \n",
       "1                                               NaN           NaN  \n",
       "2                                               NaN           NaN  \n",
       "3                                               NaN           NaN  \n",
       "4                                               NaN           NaN  \n",
       "...                                             ...           ...  \n",
       "6971                                            NaN           NaN  \n",
       "6972                                            NaN           NaN  \n",
       "6973          https://www.sheppertonjazzclub.co.uk/           NaN  \n",
       "6974                                            NaN           NaN  \n",
       "6975  https://www.facebook.com/pg/CopperBarSwansea/  01792 456689  \n",
       "\n",
       "[6976 rows x 9 columns]"
      ]
     },
     "execution_count": 2,
     "metadata": {},
     "output_type": "execute_result"
    }
   ],
   "source": [
    "ukVenues"
   ]
  },
  {
   "cell_type": "code",
   "execution_count": 3,
   "metadata": {},
   "outputs": [
    {
     "data": {
      "text/plain": [
       "venueID          6976\n",
       "venueName        6976\n",
       "venueStreet      5689\n",
       "venuePostcode    5934\n",
       "venueCity        6976\n",
       "venueCountry     6976\n",
       "venueCapacity     710\n",
       "venueWebsite     2291\n",
       "venuePhone       1352\n",
       "dtype: int64"
      ]
     },
     "execution_count": 3,
     "metadata": {},
     "output_type": "execute_result"
    }
   ],
   "source": [
    "ukVenues.count()"
   ]
  },
  {
   "cell_type": "code",
   "execution_count": 4,
   "metadata": {},
   "outputs": [
    {
     "data": {
      "text/plain": [
       "0                             Brunswick Street\n",
       "1                          2 Parliament Street\n",
       "2       46 - 50 Oldham Street Northern Quarter\n",
       "3                     4a King Street Deansgate\n",
       "4                              Harewood Estate\n",
       "                         ...                  \n",
       "6971                                       NaN\n",
       "6972                                       NaN\n",
       "6973                               Walton Lane\n",
       "6974                                       NaN\n",
       "6975                          38 Castle Street\n",
       "Name: venueStreet, Length: 6976, dtype: object"
      ]
     },
     "execution_count": 4,
     "metadata": {},
     "output_type": "execute_result"
    }
   ],
   "source": [
    "ukVenues.venueStreet"
   ]
  },
  {
   "cell_type": "code",
   "execution_count": 5,
   "metadata": {},
   "outputs": [],
   "source": [
    "ukVenues.venueStreet.fillna('Missing Venue-street data', inplace = True)"
   ]
  },
  {
   "cell_type": "code",
   "execution_count": 6,
   "metadata": {},
   "outputs": [
    {
     "data": {
      "text/plain": [
       "0                             Brunswick Street\n",
       "1                          2 Parliament Street\n",
       "2       46 - 50 Oldham Street Northern Quarter\n",
       "3                     4a King Street Deansgate\n",
       "4                              Harewood Estate\n",
       "                         ...                  \n",
       "6971                 Missing Venue-street data\n",
       "6972                 Missing Venue-street data\n",
       "6973                               Walton Lane\n",
       "6974                 Missing Venue-street data\n",
       "6975                          38 Castle Street\n",
       "Name: venueStreet, Length: 6976, dtype: object"
      ]
     },
     "execution_count": 6,
     "metadata": {},
     "output_type": "execute_result"
    }
   ],
   "source": [
    "ukVenues.venueStreet"
   ]
  },
  {
   "cell_type": "code",
   "execution_count": 7,
   "metadata": {},
   "outputs": [
    {
     "data": {
      "text/plain": [
       "venueID          6976\n",
       "venueName        6976\n",
       "venueStreet      6976\n",
       "venuePostcode    5934\n",
       "venueCity        6976\n",
       "venueCountry     6976\n",
       "venueCapacity     710\n",
       "venueWebsite     2291\n",
       "venuePhone       1352\n",
       "dtype: int64"
      ]
     },
     "execution_count": 7,
     "metadata": {},
     "output_type": "execute_result"
    }
   ],
   "source": [
    "ukVenues.count()"
   ]
  },
  {
   "cell_type": "code",
   "execution_count": 8,
   "metadata": {},
   "outputs": [
    {
     "data": {
      "text/plain": [
       "0        ST1 1DR\n",
       "1        LA1 1DB\n",
       "2         M4 1LE\n",
       "3         M2 6DQ\n",
       "4       LS17 9LG\n",
       "          ...   \n",
       "6971         NaN\n",
       "6972         NaN\n",
       "6973     TW178LP\n",
       "6974         NaN\n",
       "6975     SA1 1HZ\n",
       "Name: venuePostcode, Length: 6976, dtype: object"
      ]
     },
     "execution_count": 8,
     "metadata": {},
     "output_type": "execute_result"
    }
   ],
   "source": [
    "ukVenues.venuePostcode"
   ]
  },
  {
   "cell_type": "code",
   "execution_count": 9,
   "metadata": {},
   "outputs": [],
   "source": [
    "ukVenues.venuePostcode.fillna('A1 2BC', inplace = True)"
   ]
  },
  {
   "cell_type": "code",
   "execution_count": 10,
   "metadata": {},
   "outputs": [
    {
     "data": {
      "text/plain": [
       "0        ST1 1DR\n",
       "1        LA1 1DB\n",
       "2         M4 1LE\n",
       "3         M2 6DQ\n",
       "4       LS17 9LG\n",
       "          ...   \n",
       "6971      A1 2BC\n",
       "6972      A1 2BC\n",
       "6973     TW178LP\n",
       "6974      A1 2BC\n",
       "6975     SA1 1HZ\n",
       "Name: venuePostcode, Length: 6976, dtype: object"
      ]
     },
     "execution_count": 10,
     "metadata": {},
     "output_type": "execute_result"
    }
   ],
   "source": [
    "ukVenues.venuePostcode"
   ]
  },
  {
   "cell_type": "code",
   "execution_count": 11,
   "metadata": {},
   "outputs": [
    {
     "data": {
      "text/plain": [
       "venueID          6976\n",
       "venueName        6976\n",
       "venueStreet      6976\n",
       "venuePostcode    6976\n",
       "venueCity        6976\n",
       "venueCountry     6976\n",
       "venueCapacity     710\n",
       "venueWebsite     2291\n",
       "venuePhone       1352\n",
       "dtype: int64"
      ]
     },
     "execution_count": 11,
     "metadata": {},
     "output_type": "execute_result"
    }
   ],
   "source": [
    "ukVenues.count()"
   ]
  },
  {
   "cell_type": "code",
   "execution_count": 12,
   "metadata": {},
   "outputs": [
    {
     "data": {
      "text/plain": [
       "0       400.0\n",
       "1         NaN\n",
       "2         NaN\n",
       "3         NaN\n",
       "4         NaN\n",
       "        ...  \n",
       "6971      NaN\n",
       "6972      NaN\n",
       "6973    150.0\n",
       "6974      NaN\n",
       "6975      NaN\n",
       "Name: venueCapacity, Length: 6976, dtype: float64"
      ]
     },
     "execution_count": 12,
     "metadata": {},
     "output_type": "execute_result"
    }
   ],
   "source": [
    "ukVenues.venueCapacity"
   ]
  },
  {
   "cell_type": "code",
   "execution_count": 14,
   "metadata": {},
   "outputs": [
    {
     "data": {
      "text/plain": [
       "20.0"
      ]
     },
     "execution_count": 14,
     "metadata": {},
     "output_type": "execute_result"
    }
   ],
   "source": [
    "ukVenues.venueCapacity.min()"
   ]
  },
  {
   "cell_type": "code",
   "execution_count": 15,
   "metadata": {},
   "outputs": [],
   "source": [
    "ukVenues.venueCapacity.fillna(ukVenues.venueCapacity.min(), inplace = True)"
   ]
  },
  {
   "cell_type": "code",
   "execution_count": 16,
   "metadata": {},
   "outputs": [
    {
     "data": {
      "text/plain": [
       "0       400.0\n",
       "1        20.0\n",
       "2        20.0\n",
       "3        20.0\n",
       "4        20.0\n",
       "        ...  \n",
       "6971     20.0\n",
       "6972     20.0\n",
       "6973    150.0\n",
       "6974     20.0\n",
       "6975     20.0\n",
       "Name: venueCapacity, Length: 6976, dtype: float64"
      ]
     },
     "execution_count": 16,
     "metadata": {},
     "output_type": "execute_result"
    }
   ],
   "source": [
    "ukVenues.venueCapacity"
   ]
  },
  {
   "cell_type": "code",
   "execution_count": 17,
   "metadata": {},
   "outputs": [
    {
     "data": {
      "text/plain": [
       "venueID          6976\n",
       "venueName        6976\n",
       "venueStreet      6976\n",
       "venuePostcode    6976\n",
       "venueCity        6976\n",
       "venueCountry     6976\n",
       "venueCapacity    6976\n",
       "venueWebsite     2291\n",
       "venuePhone       1352\n",
       "dtype: int64"
      ]
     },
     "execution_count": 17,
     "metadata": {},
     "output_type": "execute_result"
    }
   ],
   "source": [
    "ukVenues.count()"
   ]
  },
  {
   "cell_type": "code",
   "execution_count": 18,
   "metadata": {},
   "outputs": [
    {
     "data": {
      "text/plain": [
       "0                      http://www.thesugarmill.co.uk/\n",
       "1                                                 NaN\n",
       "2                                                 NaN\n",
       "3                                                 NaN\n",
       "4                                                 NaN\n",
       "                            ...                      \n",
       "6971                                              NaN\n",
       "6972                                              NaN\n",
       "6973            https://www.sheppertonjazzclub.co.uk/\n",
       "6974                                              NaN\n",
       "6975    https://www.facebook.com/pg/CopperBarSwansea/\n",
       "Name: venueWebsite, Length: 6976, dtype: object"
      ]
     },
     "execution_count": 18,
     "metadata": {},
     "output_type": "execute_result"
    }
   ],
   "source": [
    "ukVenues.venueWebsite"
   ]
  },
  {
   "cell_type": "code",
   "execution_count": 19,
   "metadata": {},
   "outputs": [],
   "source": [
    "ukVenues.venueWebsite.fillna('http://www.missingvenuewebsitedata.co.uk', inplace = True)"
   ]
  },
  {
   "cell_type": "code",
   "execution_count": 20,
   "metadata": {},
   "outputs": [
    {
     "data": {
      "text/plain": [
       "0                      http://www.thesugarmill.co.uk/\n",
       "1            http://www.missingvenuewebsitedata.co.uk\n",
       "2            http://www.missingvenuewebsitedata.co.uk\n",
       "3            http://www.missingvenuewebsitedata.co.uk\n",
       "4            http://www.missingvenuewebsitedata.co.uk\n",
       "                            ...                      \n",
       "6971         http://www.missingvenuewebsitedata.co.uk\n",
       "6972         http://www.missingvenuewebsitedata.co.uk\n",
       "6973            https://www.sheppertonjazzclub.co.uk/\n",
       "6974         http://www.missingvenuewebsitedata.co.uk\n",
       "6975    https://www.facebook.com/pg/CopperBarSwansea/\n",
       "Name: venueWebsite, Length: 6976, dtype: object"
      ]
     },
     "execution_count": 20,
     "metadata": {},
     "output_type": "execute_result"
    }
   ],
   "source": [
    "ukVenues.venueWebsite"
   ]
  },
  {
   "cell_type": "code",
   "execution_count": 21,
   "metadata": {},
   "outputs": [
    {
     "data": {
      "text/plain": [
       "venueID          6976\n",
       "venueName        6976\n",
       "venueStreet      6976\n",
       "venuePostcode    6976\n",
       "venueCity        6976\n",
       "venueCountry     6976\n",
       "venueCapacity    6976\n",
       "venueWebsite     6976\n",
       "venuePhone       1352\n",
       "dtype: int64"
      ]
     },
     "execution_count": 21,
     "metadata": {},
     "output_type": "execute_result"
    }
   ],
   "source": [
    "ukVenues.count()"
   ]
  },
  {
   "cell_type": "code",
   "execution_count": 22,
   "metadata": {},
   "outputs": [
    {
     "data": {
      "text/plain": [
       "0       01782 214991\n",
       "1                NaN\n",
       "2                NaN\n",
       "3                NaN\n",
       "4                NaN\n",
       "            ...     \n",
       "6971             NaN\n",
       "6972             NaN\n",
       "6973             NaN\n",
       "6974             NaN\n",
       "6975    01792 456689\n",
       "Name: venuePhone, Length: 6976, dtype: object"
      ]
     },
     "execution_count": 22,
     "metadata": {},
     "output_type": "execute_result"
    }
   ],
   "source": [
    "ukVenues.venuePhone"
   ]
  },
  {
   "cell_type": "code",
   "execution_count": 23,
   "metadata": {},
   "outputs": [],
   "source": [
    "ukVenues.venuePhone.fillna('0123 456 7890', inplace = True)"
   ]
  },
  {
   "cell_type": "code",
   "execution_count": 24,
   "metadata": {},
   "outputs": [
    {
     "data": {
      "text/plain": [
       "0        01782 214991\n",
       "1       0123 456 7890\n",
       "2       0123 456 7890\n",
       "3       0123 456 7890\n",
       "4       0123 456 7890\n",
       "            ...      \n",
       "6971    0123 456 7890\n",
       "6972    0123 456 7890\n",
       "6973    0123 456 7890\n",
       "6974    0123 456 7890\n",
       "6975     01792 456689\n",
       "Name: venuePhone, Length: 6976, dtype: object"
      ]
     },
     "execution_count": 24,
     "metadata": {},
     "output_type": "execute_result"
    }
   ],
   "source": [
    "ukVenues.venuePhone"
   ]
  },
  {
   "cell_type": "code",
   "execution_count": 25,
   "metadata": {},
   "outputs": [
    {
     "data": {
      "text/plain": [
       "venueID          6976\n",
       "venueName        6976\n",
       "venueStreet      6976\n",
       "venuePostcode    6976\n",
       "venueCity        6976\n",
       "venueCountry     6976\n",
       "venueCapacity    6976\n",
       "venueWebsite     6976\n",
       "venuePhone       6976\n",
       "dtype: int64"
      ]
     },
     "execution_count": 25,
     "metadata": {},
     "output_type": "execute_result"
    }
   ],
   "source": [
    "ukVenues.count()"
   ]
  },
  {
   "cell_type": "code",
   "execution_count": 26,
   "metadata": {},
   "outputs": [
    {
     "data": {
      "text/html": [
       "<div>\n",
       "<style scoped>\n",
       "    .dataframe tbody tr th:only-of-type {\n",
       "        vertical-align: middle;\n",
       "    }\n",
       "\n",
       "    .dataframe tbody tr th {\n",
       "        vertical-align: top;\n",
       "    }\n",
       "\n",
       "    .dataframe thead th {\n",
       "        text-align: right;\n",
       "    }\n",
       "</style>\n",
       "<table border=\"1\" class=\"dataframe\">\n",
       "  <thead>\n",
       "    <tr style=\"text-align: right;\">\n",
       "      <th></th>\n",
       "      <th>venueID</th>\n",
       "      <th>venueName</th>\n",
       "      <th>venueStreet</th>\n",
       "      <th>venuePostcode</th>\n",
       "      <th>venueCity</th>\n",
       "      <th>venueCountry</th>\n",
       "      <th>venueCapacity</th>\n",
       "      <th>venueWebsite</th>\n",
       "      <th>venuePhone</th>\n",
       "    </tr>\n",
       "  </thead>\n",
       "  <tbody>\n",
       "    <tr>\n",
       "      <td>0</td>\n",
       "      <td>1561</td>\n",
       "      <td>The Sugarmill</td>\n",
       "      <td>Brunswick Street</td>\n",
       "      <td>ST1 1DR</td>\n",
       "      <td>Stoke On Trent</td>\n",
       "      <td>UK</td>\n",
       "      <td>400.0</td>\n",
       "      <td>http://www.thesugarmill.co.uk/</td>\n",
       "      <td>01782 214991</td>\n",
       "    </tr>\n",
       "    <tr>\n",
       "      <td>1</td>\n",
       "      <td>1584</td>\n",
       "      <td>The Yorkshire House</td>\n",
       "      <td>2 Parliament Street</td>\n",
       "      <td>LA1 1DB</td>\n",
       "      <td>Lancaster</td>\n",
       "      <td>UK</td>\n",
       "      <td>20.0</td>\n",
       "      <td>http://www.missingvenuewebsitedata.co.uk</td>\n",
       "      <td>0123 456 7890</td>\n",
       "    </tr>\n",
       "    <tr>\n",
       "      <td>2</td>\n",
       "      <td>1596</td>\n",
       "      <td>The Mint Lounge</td>\n",
       "      <td>46 - 50 Oldham Street Northern Quarter</td>\n",
       "      <td>M4 1LE</td>\n",
       "      <td>Manchester</td>\n",
       "      <td>UK</td>\n",
       "      <td>20.0</td>\n",
       "      <td>http://www.missingvenuewebsitedata.co.uk</td>\n",
       "      <td>0123 456 7890</td>\n",
       "    </tr>\n",
       "    <tr>\n",
       "      <td>3</td>\n",
       "      <td>1602</td>\n",
       "      <td>South</td>\n",
       "      <td>4a King Street Deansgate</td>\n",
       "      <td>M2 6DQ</td>\n",
       "      <td>Manchester</td>\n",
       "      <td>UK</td>\n",
       "      <td>20.0</td>\n",
       "      <td>http://www.missingvenuewebsitedata.co.uk</td>\n",
       "      <td>0123 456 7890</td>\n",
       "    </tr>\n",
       "    <tr>\n",
       "      <td>4</td>\n",
       "      <td>1620</td>\n",
       "      <td>Harewood House</td>\n",
       "      <td>Harewood Estate</td>\n",
       "      <td>LS17 9LG</td>\n",
       "      <td>Leeds</td>\n",
       "      <td>UK</td>\n",
       "      <td>20.0</td>\n",
       "      <td>http://www.missingvenuewebsitedata.co.uk</td>\n",
       "      <td>0123 456 7890</td>\n",
       "    </tr>\n",
       "    <tr>\n",
       "      <td>...</td>\n",
       "      <td>...</td>\n",
       "      <td>...</td>\n",
       "      <td>...</td>\n",
       "      <td>...</td>\n",
       "      <td>...</td>\n",
       "      <td>...</td>\n",
       "      <td>...</td>\n",
       "      <td>...</td>\n",
       "      <td>...</td>\n",
       "    </tr>\n",
       "    <tr>\n",
       "      <td>6971</td>\n",
       "      <td>4377199</td>\n",
       "      <td>Radcliffe Market</td>\n",
       "      <td>Missing Venue-street data</td>\n",
       "      <td>A1 2BC</td>\n",
       "      <td>Radcliffe</td>\n",
       "      <td>UK</td>\n",
       "      <td>20.0</td>\n",
       "      <td>http://www.missingvenuewebsitedata.co.uk</td>\n",
       "      <td>0123 456 7890</td>\n",
       "    </tr>\n",
       "    <tr>\n",
       "      <td>6972</td>\n",
       "      <td>4377342</td>\n",
       "      <td>Waterfront Hall Auditorium</td>\n",
       "      <td>Missing Venue-street data</td>\n",
       "      <td>A1 2BC</td>\n",
       "      <td>Belfast</td>\n",
       "      <td>UK</td>\n",
       "      <td>20.0</td>\n",
       "      <td>http://www.missingvenuewebsitedata.co.uk</td>\n",
       "      <td>0123 456 7890</td>\n",
       "    </tr>\n",
       "    <tr>\n",
       "      <td>6973</td>\n",
       "      <td>4378026</td>\n",
       "      <td>Bagster House</td>\n",
       "      <td>Walton Lane</td>\n",
       "      <td>TW178LP</td>\n",
       "      <td>Shepperton</td>\n",
       "      <td>UK</td>\n",
       "      <td>150.0</td>\n",
       "      <td>https://www.sheppertonjazzclub.co.uk/</td>\n",
       "      <td>0123 456 7890</td>\n",
       "    </tr>\n",
       "    <tr>\n",
       "      <td>6974</td>\n",
       "      <td>4379381</td>\n",
       "      <td>Hrh Metal</td>\n",
       "      <td>Missing Venue-street data</td>\n",
       "      <td>A1 2BC</td>\n",
       "      <td>Birmingham</td>\n",
       "      <td>UK</td>\n",
       "      <td>20.0</td>\n",
       "      <td>http://www.missingvenuewebsitedata.co.uk</td>\n",
       "      <td>0123 456 7890</td>\n",
       "    </tr>\n",
       "    <tr>\n",
       "      <td>6975</td>\n",
       "      <td>4380113</td>\n",
       "      <td>Copper Bar</td>\n",
       "      <td>38 Castle Street</td>\n",
       "      <td>SA1 1HZ</td>\n",
       "      <td>Swansea</td>\n",
       "      <td>UK</td>\n",
       "      <td>20.0</td>\n",
       "      <td>https://www.facebook.com/pg/CopperBarSwansea/</td>\n",
       "      <td>01792 456689</td>\n",
       "    </tr>\n",
       "  </tbody>\n",
       "</table>\n",
       "<p>6976 rows × 9 columns</p>\n",
       "</div>"
      ],
      "text/plain": [
       "      venueID                   venueName  \\\n",
       "0        1561               The Sugarmill   \n",
       "1        1584         The Yorkshire House   \n",
       "2        1596             The Mint Lounge   \n",
       "3        1602                       South   \n",
       "4        1620              Harewood House   \n",
       "...       ...                         ...   \n",
       "6971  4377199            Radcliffe Market   \n",
       "6972  4377342  Waterfront Hall Auditorium   \n",
       "6973  4378026               Bagster House   \n",
       "6974  4379381                   Hrh Metal   \n",
       "6975  4380113                  Copper Bar   \n",
       "\n",
       "                                 venueStreet venuePostcode       venueCity  \\\n",
       "0                           Brunswick Street       ST1 1DR  Stoke On Trent   \n",
       "1                        2 Parliament Street       LA1 1DB       Lancaster   \n",
       "2     46 - 50 Oldham Street Northern Quarter        M4 1LE      Manchester   \n",
       "3                   4a King Street Deansgate        M2 6DQ      Manchester   \n",
       "4                            Harewood Estate      LS17 9LG           Leeds   \n",
       "...                                      ...           ...             ...   \n",
       "6971               Missing Venue-street data        A1 2BC       Radcliffe   \n",
       "6972               Missing Venue-street data        A1 2BC         Belfast   \n",
       "6973                             Walton Lane       TW178LP      Shepperton   \n",
       "6974               Missing Venue-street data        A1 2BC      Birmingham   \n",
       "6975                        38 Castle Street       SA1 1HZ         Swansea   \n",
       "\n",
       "     venueCountry  venueCapacity  \\\n",
       "0              UK          400.0   \n",
       "1              UK           20.0   \n",
       "2              UK           20.0   \n",
       "3              UK           20.0   \n",
       "4              UK           20.0   \n",
       "...           ...            ...   \n",
       "6971           UK           20.0   \n",
       "6972           UK           20.0   \n",
       "6973           UK          150.0   \n",
       "6974           UK           20.0   \n",
       "6975           UK           20.0   \n",
       "\n",
       "                                       venueWebsite     venuePhone  \n",
       "0                    http://www.thesugarmill.co.uk/   01782 214991  \n",
       "1          http://www.missingvenuewebsitedata.co.uk  0123 456 7890  \n",
       "2          http://www.missingvenuewebsitedata.co.uk  0123 456 7890  \n",
       "3          http://www.missingvenuewebsitedata.co.uk  0123 456 7890  \n",
       "4          http://www.missingvenuewebsitedata.co.uk  0123 456 7890  \n",
       "...                                             ...            ...  \n",
       "6971       http://www.missingvenuewebsitedata.co.uk  0123 456 7890  \n",
       "6972       http://www.missingvenuewebsitedata.co.uk  0123 456 7890  \n",
       "6973          https://www.sheppertonjazzclub.co.uk/  0123 456 7890  \n",
       "6974       http://www.missingvenuewebsitedata.co.uk  0123 456 7890  \n",
       "6975  https://www.facebook.com/pg/CopperBarSwansea/   01792 456689  \n",
       "\n",
       "[6976 rows x 9 columns]"
      ]
     },
     "execution_count": 26,
     "metadata": {},
     "output_type": "execute_result"
    }
   ],
   "source": [
    "ukVenues"
   ]
  },
  {
   "cell_type": "code",
   "execution_count": 27,
   "metadata": {},
   "outputs": [],
   "source": [
    "ukVenues.to_csv('C:/Users/isaac/OneDrive - Sheffield Hallam University/SHU/Advanced Data Management Project/Assessment/GitHub/Gigalytics/Gigalytics/datasets/Clean/ukVenues.csv', index=False)"
   ]
  }
 ],
 "metadata": {
  "kernelspec": {
   "display_name": "Python 3",
   "language": "python",
   "name": "python3"
  },
  "language_info": {
   "codemirror_mode": {
    "name": "ipython",
    "version": 3
   },
   "file_extension": ".py",
   "mimetype": "text/x-python",
   "name": "python",
   "nbconvert_exporter": "python",
   "pygments_lexer": "ipython3",
   "version": "3.7.4"
  }
 },
 "nbformat": 4,
 "nbformat_minor": 2
}
