{
 "cells": [
  {
   "cell_type": "markdown",
   "metadata": {},
   "source": [
    "# Data Cleaning - ukEvents"
   ]
  },
  {
   "cell_type": "code",
   "execution_count": 23,
   "metadata": {},
   "outputs": [],
   "source": [
    "import pandas as pd\n",
    "ukEvents = pd.read_csv(\"Dirty data/Cleaning/ukEvents.csv\")"
   ]
  },
  {
   "cell_type": "code",
   "execution_count": 24,
   "metadata": {
    "scrolled": true
   },
   "outputs": [
    {
     "data": {
      "text/html": [
       "<div>\n",
       "<style scoped>\n",
       "    .dataframe tbody tr th:only-of-type {\n",
       "        vertical-align: middle;\n",
       "    }\n",
       "\n",
       "    .dataframe tbody tr th {\n",
       "        vertical-align: top;\n",
       "    }\n",
       "\n",
       "    .dataframe thead th {\n",
       "        text-align: right;\n",
       "    }\n",
       "</style>\n",
       "<table border=\"1\" class=\"dataframe\">\n",
       "  <thead>\n",
       "    <tr style=\"text-align: right;\">\n",
       "      <th></th>\n",
       "      <th>eventID</th>\n",
       "      <th>eventName</th>\n",
       "      <th>eventType</th>\n",
       "      <th>eventURI</th>\n",
       "      <th>eventAgeRestriction</th>\n",
       "      <th>artistMBID</th>\n",
       "      <th>venueID</th>\n",
       "      <th>eventStartDate</th>\n",
       "      <th>eventStartTime</th>\n",
       "      <th>venueCountry</th>\n",
       "      <th>eventFlaggedAsEnded</th>\n",
       "    </tr>\n",
       "  </thead>\n",
       "  <tbody>\n",
       "    <tr>\n",
       "      <td>0</td>\n",
       "      <td>36847829</td>\n",
       "      <td>Demons &amp; Wizards and Dendera at Islington Asse...</td>\n",
       "      <td>Concert</td>\n",
       "      <td>http://www.songkick.com/concerts/36847829-demo...</td>\n",
       "      <td>NaN</td>\n",
       "      <td>df074f34-26fc-45fa-adf3-d19836dde2ec</td>\n",
       "      <td>1256546.0</td>\n",
       "      <td>30/06/2019</td>\n",
       "      <td>19:30:00</td>\n",
       "      <td>UK</td>\n",
       "      <td>True</td>\n",
       "    </tr>\n",
       "    <tr>\n",
       "      <td>1</td>\n",
       "      <td>36847829</td>\n",
       "      <td>Demons &amp; Wizards and Dendera at Islington Asse...</td>\n",
       "      <td>Concert</td>\n",
       "      <td>http://www.songkick.com/concerts/36847829-demo...</td>\n",
       "      <td>NaN</td>\n",
       "      <td>b709e093-e90e-45e9-bedb-6fffa602b674</td>\n",
       "      <td>1256546.0</td>\n",
       "      <td>30/06/2019</td>\n",
       "      <td>19:30:00</td>\n",
       "      <td>UK</td>\n",
       "      <td>True</td>\n",
       "    </tr>\n",
       "    <tr>\n",
       "      <td>2</td>\n",
       "      <td>38968714</td>\n",
       "      <td>Dendera and Primitai at Our Black Heart (Octob...</td>\n",
       "      <td>Concert</td>\n",
       "      <td>http://www.songkick.com/concerts/38968714-dend...</td>\n",
       "      <td>NaN</td>\n",
       "      <td>b709e093-e90e-45e9-bedb-6fffa602b674</td>\n",
       "      <td>2845858.0</td>\n",
       "      <td>05/10/2019</td>\n",
       "      <td>19:00:00</td>\n",
       "      <td>UK</td>\n",
       "      <td>True</td>\n",
       "    </tr>\n",
       "    <tr>\n",
       "      <td>3</td>\n",
       "      <td>38968714</td>\n",
       "      <td>Dendera and Primitai at Our Black Heart (Octob...</td>\n",
       "      <td>Concert</td>\n",
       "      <td>http://www.songkick.com/concerts/38968714-dend...</td>\n",
       "      <td>NaN</td>\n",
       "      <td>86e7205f-c31a-4679-bdc4-4d6c8ea25cbb</td>\n",
       "      <td>2845858.0</td>\n",
       "      <td>05/10/2019</td>\n",
       "      <td>19:00:00</td>\n",
       "      <td>UK</td>\n",
       "      <td>True</td>\n",
       "    </tr>\n",
       "    <tr>\n",
       "      <td>4</td>\n",
       "      <td>39131439</td>\n",
       "      <td>Primitai and Dendera at The Joiners (October 6...</td>\n",
       "      <td>Concert</td>\n",
       "      <td>http://www.songkick.com/concerts/39131439-prim...</td>\n",
       "      <td>NaN</td>\n",
       "      <td>86e7205f-c31a-4679-bdc4-4d6c8ea25cbb</td>\n",
       "      <td>52106.0</td>\n",
       "      <td>06/10/2019</td>\n",
       "      <td>19:00:00</td>\n",
       "      <td>UK</td>\n",
       "      <td>True</td>\n",
       "    </tr>\n",
       "    <tr>\n",
       "      <td>...</td>\n",
       "      <td>...</td>\n",
       "      <td>...</td>\n",
       "      <td>...</td>\n",
       "      <td>...</td>\n",
       "      <td>...</td>\n",
       "      <td>...</td>\n",
       "      <td>...</td>\n",
       "      <td>...</td>\n",
       "      <td>...</td>\n",
       "      <td>...</td>\n",
       "      <td>...</td>\n",
       "    </tr>\n",
       "    <tr>\n",
       "      <td>550893</td>\n",
       "      <td>36831559</td>\n",
       "      <td>KozFest 2019</td>\n",
       "      <td>Festival</td>\n",
       "      <td>http://www.songkick.com/festivals/432168-kozfe...</td>\n",
       "      <td>NaN</td>\n",
       "      <td>ab6d8a31-49ed-42fb-b4f2-1b979b72c6b9</td>\n",
       "      <td>NaN</td>\n",
       "      <td>26/07/2019</td>\n",
       "      <td>NaN</td>\n",
       "      <td>UK</td>\n",
       "      <td>True</td>\n",
       "    </tr>\n",
       "    <tr>\n",
       "      <td>550894</td>\n",
       "      <td>36831559</td>\n",
       "      <td>KozFest 2019</td>\n",
       "      <td>Festival</td>\n",
       "      <td>http://www.songkick.com/festivals/432168-kozfe...</td>\n",
       "      <td>NaN</td>\n",
       "      <td>c4c6d9e0-95e3-4e5d-9001-82c15819b037</td>\n",
       "      <td>NaN</td>\n",
       "      <td>26/07/2019</td>\n",
       "      <td>NaN</td>\n",
       "      <td>UK</td>\n",
       "      <td>True</td>\n",
       "    </tr>\n",
       "    <tr>\n",
       "      <td>550895</td>\n",
       "      <td>36831559</td>\n",
       "      <td>KozFest 2019</td>\n",
       "      <td>Festival</td>\n",
       "      <td>http://www.songkick.com/festivals/432168-kozfe...</td>\n",
       "      <td>NaN</td>\n",
       "      <td>2c10156c-87e0-48a4-97bc-beea3af610e5</td>\n",
       "      <td>NaN</td>\n",
       "      <td>26/07/2019</td>\n",
       "      <td>NaN</td>\n",
       "      <td>UK</td>\n",
       "      <td>True</td>\n",
       "    </tr>\n",
       "    <tr>\n",
       "      <td>550896</td>\n",
       "      <td>37071524</td>\n",
       "      <td>Electric Moon with Enos at The Lexington (July...</td>\n",
       "      <td>Concert</td>\n",
       "      <td>http://www.songkick.com/concerts/37071524-elec...</td>\n",
       "      <td>NaN</td>\n",
       "      <td>23e24bc1-d1c5-4a66-b59e-b6696501b999</td>\n",
       "      <td>34372.0</td>\n",
       "      <td>26/07/2019</td>\n",
       "      <td>19:30:00</td>\n",
       "      <td>UK</td>\n",
       "      <td>True</td>\n",
       "    </tr>\n",
       "    <tr>\n",
       "      <td>550897</td>\n",
       "      <td>37071524</td>\n",
       "      <td>Electric Moon with Enos at The Lexington (July...</td>\n",
       "      <td>Concert</td>\n",
       "      <td>http://www.songkick.com/concerts/37071524-elec...</td>\n",
       "      <td>NaN</td>\n",
       "      <td>0a45f017-cd62-47be-88c8-9d006825f5b5</td>\n",
       "      <td>34372.0</td>\n",
       "      <td>26/07/2019</td>\n",
       "      <td>19:30:00</td>\n",
       "      <td>UK</td>\n",
       "      <td>True</td>\n",
       "    </tr>\n",
       "  </tbody>\n",
       "</table>\n",
       "<p>550898 rows × 11 columns</p>\n",
       "</div>"
      ],
      "text/plain": [
       "         eventID                                          eventName eventType  \\\n",
       "0       36847829  Demons & Wizards and Dendera at Islington Asse...   Concert   \n",
       "1       36847829  Demons & Wizards and Dendera at Islington Asse...   Concert   \n",
       "2       38968714  Dendera and Primitai at Our Black Heart (Octob...   Concert   \n",
       "3       38968714  Dendera and Primitai at Our Black Heart (Octob...   Concert   \n",
       "4       39131439  Primitai and Dendera at The Joiners (October 6...   Concert   \n",
       "...          ...                                                ...       ...   \n",
       "550893  36831559                                       KozFest 2019  Festival   \n",
       "550894  36831559                                       KozFest 2019  Festival   \n",
       "550895  36831559                                       KozFest 2019  Festival   \n",
       "550896  37071524  Electric Moon with Enos at The Lexington (July...   Concert   \n",
       "550897  37071524  Electric Moon with Enos at The Lexington (July...   Concert   \n",
       "\n",
       "                                                 eventURI eventAgeRestriction  \\\n",
       "0       http://www.songkick.com/concerts/36847829-demo...                 NaN   \n",
       "1       http://www.songkick.com/concerts/36847829-demo...                 NaN   \n",
       "2       http://www.songkick.com/concerts/38968714-dend...                 NaN   \n",
       "3       http://www.songkick.com/concerts/38968714-dend...                 NaN   \n",
       "4       http://www.songkick.com/concerts/39131439-prim...                 NaN   \n",
       "...                                                   ...                 ...   \n",
       "550893  http://www.songkick.com/festivals/432168-kozfe...                 NaN   \n",
       "550894  http://www.songkick.com/festivals/432168-kozfe...                 NaN   \n",
       "550895  http://www.songkick.com/festivals/432168-kozfe...                 NaN   \n",
       "550896  http://www.songkick.com/concerts/37071524-elec...                 NaN   \n",
       "550897  http://www.songkick.com/concerts/37071524-elec...                 NaN   \n",
       "\n",
       "                                  artistMBID    venueID eventStartDate  \\\n",
       "0       df074f34-26fc-45fa-adf3-d19836dde2ec  1256546.0     30/06/2019   \n",
       "1       b709e093-e90e-45e9-bedb-6fffa602b674  1256546.0     30/06/2019   \n",
       "2       b709e093-e90e-45e9-bedb-6fffa602b674  2845858.0     05/10/2019   \n",
       "3       86e7205f-c31a-4679-bdc4-4d6c8ea25cbb  2845858.0     05/10/2019   \n",
       "4       86e7205f-c31a-4679-bdc4-4d6c8ea25cbb    52106.0     06/10/2019   \n",
       "...                                      ...        ...            ...   \n",
       "550893  ab6d8a31-49ed-42fb-b4f2-1b979b72c6b9        NaN     26/07/2019   \n",
       "550894  c4c6d9e0-95e3-4e5d-9001-82c15819b037        NaN     26/07/2019   \n",
       "550895  2c10156c-87e0-48a4-97bc-beea3af610e5        NaN     26/07/2019   \n",
       "550896  23e24bc1-d1c5-4a66-b59e-b6696501b999    34372.0     26/07/2019   \n",
       "550897  0a45f017-cd62-47be-88c8-9d006825f5b5    34372.0     26/07/2019   \n",
       "\n",
       "       eventStartTime venueCountry  eventFlaggedAsEnded  \n",
       "0            19:30:00           UK                 True  \n",
       "1            19:30:00           UK                 True  \n",
       "2            19:00:00           UK                 True  \n",
       "3            19:00:00           UK                 True  \n",
       "4            19:00:00           UK                 True  \n",
       "...               ...          ...                  ...  \n",
       "550893            NaN           UK                 True  \n",
       "550894            NaN           UK                 True  \n",
       "550895            NaN           UK                 True  \n",
       "550896       19:30:00           UK                 True  \n",
       "550897       19:30:00           UK                 True  \n",
       "\n",
       "[550898 rows x 11 columns]"
      ]
     },
     "execution_count": 24,
     "metadata": {},
     "output_type": "execute_result"
    }
   ],
   "source": [
    "ukEvents"
   ]
  },
  {
   "cell_type": "code",
   "execution_count": 25,
   "metadata": {},
   "outputs": [
    {
     "data": {
      "text/plain": [
       "eventID                550898\n",
       "eventName              550898\n",
       "eventType              550898\n",
       "eventURI               550898\n",
       "eventAgeRestriction     32424\n",
       "artistMBID             550898\n",
       "venueID                483196\n",
       "eventStartDate         550898\n",
       "eventStartTime         292710\n",
       "venueCountry           550898\n",
       "eventFlaggedAsEnded    550898\n",
       "dtype: int64"
      ]
     },
     "execution_count": 25,
     "metadata": {},
     "output_type": "execute_result"
    }
   ],
   "source": [
    "ukEvents.count()"
   ]
  },
  {
   "cell_type": "code",
   "execution_count": 26,
   "metadata": {},
   "outputs": [
    {
     "data": {
      "text/plain": [
       "0         NaN\n",
       "1         NaN\n",
       "2         NaN\n",
       "3         NaN\n",
       "4         NaN\n",
       "         ... \n",
       "550893    NaN\n",
       "550894    NaN\n",
       "550895    NaN\n",
       "550896    NaN\n",
       "550897    NaN\n",
       "Name: eventAgeRestriction, Length: 550898, dtype: object"
      ]
     },
     "execution_count": 26,
     "metadata": {},
     "output_type": "execute_result"
    }
   ],
   "source": [
    "ukEvents.eventAgeRestriction     "
   ]
  },
  {
   "cell_type": "code",
   "execution_count": 27,
   "metadata": {},
   "outputs": [],
   "source": [
    "ukEvents.eventAgeRestriction.fillna('No Age Restriction', inplace = True)"
   ]
  },
  {
   "cell_type": "code",
   "execution_count": 28,
   "metadata": {},
   "outputs": [
    {
     "data": {
      "text/plain": [
       "0         No Age Restriction\n",
       "1         No Age Restriction\n",
       "2         No Age Restriction\n",
       "3         No Age Restriction\n",
       "4         No Age Restriction\n",
       "                 ...        \n",
       "550893    No Age Restriction\n",
       "550894    No Age Restriction\n",
       "550895    No Age Restriction\n",
       "550896    No Age Restriction\n",
       "550897    No Age Restriction\n",
       "Name: eventAgeRestriction, Length: 550898, dtype: object"
      ]
     },
     "execution_count": 28,
     "metadata": {},
     "output_type": "execute_result"
    }
   ],
   "source": [
    "ukEvents.eventAgeRestriction"
   ]
  },
  {
   "cell_type": "code",
   "execution_count": 29,
   "metadata": {},
   "outputs": [
    {
     "data": {
      "text/plain": [
       "eventID                550898\n",
       "eventName              550898\n",
       "eventType              550898\n",
       "eventURI               550898\n",
       "eventAgeRestriction    550898\n",
       "artistMBID             550898\n",
       "venueID                483196\n",
       "eventStartDate         550898\n",
       "eventStartTime         292710\n",
       "venueCountry           550898\n",
       "eventFlaggedAsEnded    550898\n",
       "dtype: int64"
      ]
     },
     "execution_count": 29,
     "metadata": {},
     "output_type": "execute_result"
    }
   ],
   "source": [
    "ukEvents.count()"
   ]
  },
  {
   "cell_type": "code",
   "execution_count": 30,
   "metadata": {},
   "outputs": [
    {
     "data": {
      "text/plain": [
       "0         1256546.0\n",
       "1         1256546.0\n",
       "2         2845858.0\n",
       "3         2845858.0\n",
       "4           52106.0\n",
       "            ...    \n",
       "550893          NaN\n",
       "550894          NaN\n",
       "550895          NaN\n",
       "550896      34372.0\n",
       "550897      34372.0\n",
       "Name: venueID, Length: 550898, dtype: float64"
      ]
     },
     "execution_count": 30,
     "metadata": {},
     "output_type": "execute_result"
    }
   ],
   "source": [
    "ukEvents.venueID"
   ]
  },
  {
   "cell_type": "code",
   "execution_count": 31,
   "metadata": {},
   "outputs": [],
   "source": [
    "ukEvents.venueID.fillna('012345678', inplace = True)"
   ]
  },
  {
   "cell_type": "code",
   "execution_count": 32,
   "metadata": {},
   "outputs": [
    {
     "data": {
      "text/plain": [
       "0         1.25655e+06\n",
       "1         1.25655e+06\n",
       "2         2.84586e+06\n",
       "3         2.84586e+06\n",
       "4               52106\n",
       "             ...     \n",
       "550893      012345678\n",
       "550894      012345678\n",
       "550895      012345678\n",
       "550896          34372\n",
       "550897          34372\n",
       "Name: venueID, Length: 550898, dtype: object"
      ]
     },
     "execution_count": 32,
     "metadata": {},
     "output_type": "execute_result"
    }
   ],
   "source": [
    "ukEvents.venueID"
   ]
  },
  {
   "cell_type": "code",
   "execution_count": 33,
   "metadata": {},
   "outputs": [
    {
     "data": {
      "text/plain": [
       "eventID                550898\n",
       "eventName              550898\n",
       "eventType              550898\n",
       "eventURI               550898\n",
       "eventAgeRestriction    550898\n",
       "artistMBID             550898\n",
       "venueID                550898\n",
       "eventStartDate         550898\n",
       "eventStartTime         292710\n",
       "venueCountry           550898\n",
       "eventFlaggedAsEnded    550898\n",
       "dtype: int64"
      ]
     },
     "execution_count": 33,
     "metadata": {},
     "output_type": "execute_result"
    }
   ],
   "source": [
    "ukEvents.count()"
   ]
  },
  {
   "cell_type": "code",
   "execution_count": 34,
   "metadata": {},
   "outputs": [
    {
     "data": {
      "text/plain": [
       "0         19:30:00\n",
       "1         19:30:00\n",
       "2         19:00:00\n",
       "3         19:00:00\n",
       "4         19:00:00\n",
       "            ...   \n",
       "550893         NaN\n",
       "550894         NaN\n",
       "550895         NaN\n",
       "550896    19:30:00\n",
       "550897    19:30:00\n",
       "Name: eventStartTime, Length: 550898, dtype: object"
      ]
     },
     "execution_count": 34,
     "metadata": {},
     "output_type": "execute_result"
    }
   ],
   "source": [
    "ukEvents.eventStartTime         "
   ]
  },
  {
   "cell_type": "code",
   "execution_count": 35,
   "metadata": {},
   "outputs": [],
   "source": [
    "ukEvents.eventStartTime.fillna('00:00:00', inplace = True)"
   ]
  },
  {
   "cell_type": "code",
   "execution_count": 36,
   "metadata": {},
   "outputs": [
    {
     "data": {
      "text/plain": [
       "0         19:30:00\n",
       "1         19:30:00\n",
       "2         19:00:00\n",
       "3         19:00:00\n",
       "4         19:00:00\n",
       "            ...   \n",
       "550893    00:00:00\n",
       "550894    00:00:00\n",
       "550895    00:00:00\n",
       "550896    19:30:00\n",
       "550897    19:30:00\n",
       "Name: eventStartTime, Length: 550898, dtype: object"
      ]
     },
     "execution_count": 36,
     "metadata": {},
     "output_type": "execute_result"
    }
   ],
   "source": [
    "ukEvents.eventStartTime         "
   ]
  },
  {
   "cell_type": "code",
   "execution_count": 37,
   "metadata": {},
   "outputs": [
    {
     "data": {
      "text/plain": [
       "eventID                550898\n",
       "eventName              550898\n",
       "eventType              550898\n",
       "eventURI               550898\n",
       "eventAgeRestriction    550898\n",
       "artistMBID             550898\n",
       "venueID                550898\n",
       "eventStartDate         550898\n",
       "eventStartTime         550898\n",
       "venueCountry           550898\n",
       "eventFlaggedAsEnded    550898\n",
       "dtype: int64"
      ]
     },
     "execution_count": 37,
     "metadata": {},
     "output_type": "execute_result"
    }
   ],
   "source": [
    "ukEvents.count()"
   ]
  },
  {
   "cell_type": "code",
   "execution_count": 38,
   "metadata": {},
   "outputs": [
    {
     "data": {
      "text/html": [
       "<div>\n",
       "<style scoped>\n",
       "    .dataframe tbody tr th:only-of-type {\n",
       "        vertical-align: middle;\n",
       "    }\n",
       "\n",
       "    .dataframe tbody tr th {\n",
       "        vertical-align: top;\n",
       "    }\n",
       "\n",
       "    .dataframe thead th {\n",
       "        text-align: right;\n",
       "    }\n",
       "</style>\n",
       "<table border=\"1\" class=\"dataframe\">\n",
       "  <thead>\n",
       "    <tr style=\"text-align: right;\">\n",
       "      <th></th>\n",
       "      <th>eventID</th>\n",
       "      <th>eventName</th>\n",
       "      <th>eventType</th>\n",
       "      <th>eventURI</th>\n",
       "      <th>eventAgeRestriction</th>\n",
       "      <th>artistMBID</th>\n",
       "      <th>venueID</th>\n",
       "      <th>eventStartDate</th>\n",
       "      <th>eventStartTime</th>\n",
       "      <th>venueCountry</th>\n",
       "      <th>eventFlaggedAsEnded</th>\n",
       "    </tr>\n",
       "  </thead>\n",
       "  <tbody>\n",
       "    <tr>\n",
       "      <td>0</td>\n",
       "      <td>36847829</td>\n",
       "      <td>Demons &amp; Wizards and Dendera at Islington Asse...</td>\n",
       "      <td>Concert</td>\n",
       "      <td>http://www.songkick.com/concerts/36847829-demo...</td>\n",
       "      <td>No Age Restriction</td>\n",
       "      <td>df074f34-26fc-45fa-adf3-d19836dde2ec</td>\n",
       "      <td>1.25655e+06</td>\n",
       "      <td>30/06/2019</td>\n",
       "      <td>19:30:00</td>\n",
       "      <td>UK</td>\n",
       "      <td>True</td>\n",
       "    </tr>\n",
       "    <tr>\n",
       "      <td>1</td>\n",
       "      <td>36847829</td>\n",
       "      <td>Demons &amp; Wizards and Dendera at Islington Asse...</td>\n",
       "      <td>Concert</td>\n",
       "      <td>http://www.songkick.com/concerts/36847829-demo...</td>\n",
       "      <td>No Age Restriction</td>\n",
       "      <td>b709e093-e90e-45e9-bedb-6fffa602b674</td>\n",
       "      <td>1.25655e+06</td>\n",
       "      <td>30/06/2019</td>\n",
       "      <td>19:30:00</td>\n",
       "      <td>UK</td>\n",
       "      <td>True</td>\n",
       "    </tr>\n",
       "    <tr>\n",
       "      <td>2</td>\n",
       "      <td>38968714</td>\n",
       "      <td>Dendera and Primitai at Our Black Heart (Octob...</td>\n",
       "      <td>Concert</td>\n",
       "      <td>http://www.songkick.com/concerts/38968714-dend...</td>\n",
       "      <td>No Age Restriction</td>\n",
       "      <td>b709e093-e90e-45e9-bedb-6fffa602b674</td>\n",
       "      <td>2.84586e+06</td>\n",
       "      <td>05/10/2019</td>\n",
       "      <td>19:00:00</td>\n",
       "      <td>UK</td>\n",
       "      <td>True</td>\n",
       "    </tr>\n",
       "    <tr>\n",
       "      <td>3</td>\n",
       "      <td>38968714</td>\n",
       "      <td>Dendera and Primitai at Our Black Heart (Octob...</td>\n",
       "      <td>Concert</td>\n",
       "      <td>http://www.songkick.com/concerts/38968714-dend...</td>\n",
       "      <td>No Age Restriction</td>\n",
       "      <td>86e7205f-c31a-4679-bdc4-4d6c8ea25cbb</td>\n",
       "      <td>2.84586e+06</td>\n",
       "      <td>05/10/2019</td>\n",
       "      <td>19:00:00</td>\n",
       "      <td>UK</td>\n",
       "      <td>True</td>\n",
       "    </tr>\n",
       "    <tr>\n",
       "      <td>4</td>\n",
       "      <td>39131439</td>\n",
       "      <td>Primitai and Dendera at The Joiners (October 6...</td>\n",
       "      <td>Concert</td>\n",
       "      <td>http://www.songkick.com/concerts/39131439-prim...</td>\n",
       "      <td>No Age Restriction</td>\n",
       "      <td>86e7205f-c31a-4679-bdc4-4d6c8ea25cbb</td>\n",
       "      <td>52106</td>\n",
       "      <td>06/10/2019</td>\n",
       "      <td>19:00:00</td>\n",
       "      <td>UK</td>\n",
       "      <td>True</td>\n",
       "    </tr>\n",
       "    <tr>\n",
       "      <td>...</td>\n",
       "      <td>...</td>\n",
       "      <td>...</td>\n",
       "      <td>...</td>\n",
       "      <td>...</td>\n",
       "      <td>...</td>\n",
       "      <td>...</td>\n",
       "      <td>...</td>\n",
       "      <td>...</td>\n",
       "      <td>...</td>\n",
       "      <td>...</td>\n",
       "      <td>...</td>\n",
       "    </tr>\n",
       "    <tr>\n",
       "      <td>550893</td>\n",
       "      <td>36831559</td>\n",
       "      <td>KozFest 2019</td>\n",
       "      <td>Festival</td>\n",
       "      <td>http://www.songkick.com/festivals/432168-kozfe...</td>\n",
       "      <td>No Age Restriction</td>\n",
       "      <td>ab6d8a31-49ed-42fb-b4f2-1b979b72c6b9</td>\n",
       "      <td>012345678</td>\n",
       "      <td>26/07/2019</td>\n",
       "      <td>00:00:00</td>\n",
       "      <td>UK</td>\n",
       "      <td>True</td>\n",
       "    </tr>\n",
       "    <tr>\n",
       "      <td>550894</td>\n",
       "      <td>36831559</td>\n",
       "      <td>KozFest 2019</td>\n",
       "      <td>Festival</td>\n",
       "      <td>http://www.songkick.com/festivals/432168-kozfe...</td>\n",
       "      <td>No Age Restriction</td>\n",
       "      <td>c4c6d9e0-95e3-4e5d-9001-82c15819b037</td>\n",
       "      <td>012345678</td>\n",
       "      <td>26/07/2019</td>\n",
       "      <td>00:00:00</td>\n",
       "      <td>UK</td>\n",
       "      <td>True</td>\n",
       "    </tr>\n",
       "    <tr>\n",
       "      <td>550895</td>\n",
       "      <td>36831559</td>\n",
       "      <td>KozFest 2019</td>\n",
       "      <td>Festival</td>\n",
       "      <td>http://www.songkick.com/festivals/432168-kozfe...</td>\n",
       "      <td>No Age Restriction</td>\n",
       "      <td>2c10156c-87e0-48a4-97bc-beea3af610e5</td>\n",
       "      <td>012345678</td>\n",
       "      <td>26/07/2019</td>\n",
       "      <td>00:00:00</td>\n",
       "      <td>UK</td>\n",
       "      <td>True</td>\n",
       "    </tr>\n",
       "    <tr>\n",
       "      <td>550896</td>\n",
       "      <td>37071524</td>\n",
       "      <td>Electric Moon with Enos at The Lexington (July...</td>\n",
       "      <td>Concert</td>\n",
       "      <td>http://www.songkick.com/concerts/37071524-elec...</td>\n",
       "      <td>No Age Restriction</td>\n",
       "      <td>23e24bc1-d1c5-4a66-b59e-b6696501b999</td>\n",
       "      <td>34372</td>\n",
       "      <td>26/07/2019</td>\n",
       "      <td>19:30:00</td>\n",
       "      <td>UK</td>\n",
       "      <td>True</td>\n",
       "    </tr>\n",
       "    <tr>\n",
       "      <td>550897</td>\n",
       "      <td>37071524</td>\n",
       "      <td>Electric Moon with Enos at The Lexington (July...</td>\n",
       "      <td>Concert</td>\n",
       "      <td>http://www.songkick.com/concerts/37071524-elec...</td>\n",
       "      <td>No Age Restriction</td>\n",
       "      <td>0a45f017-cd62-47be-88c8-9d006825f5b5</td>\n",
       "      <td>34372</td>\n",
       "      <td>26/07/2019</td>\n",
       "      <td>19:30:00</td>\n",
       "      <td>UK</td>\n",
       "      <td>True</td>\n",
       "    </tr>\n",
       "  </tbody>\n",
       "</table>\n",
       "<p>550898 rows × 11 columns</p>\n",
       "</div>"
      ],
      "text/plain": [
       "         eventID                                          eventName eventType  \\\n",
       "0       36847829  Demons & Wizards and Dendera at Islington Asse...   Concert   \n",
       "1       36847829  Demons & Wizards and Dendera at Islington Asse...   Concert   \n",
       "2       38968714  Dendera and Primitai at Our Black Heart (Octob...   Concert   \n",
       "3       38968714  Dendera and Primitai at Our Black Heart (Octob...   Concert   \n",
       "4       39131439  Primitai and Dendera at The Joiners (October 6...   Concert   \n",
       "...          ...                                                ...       ...   \n",
       "550893  36831559                                       KozFest 2019  Festival   \n",
       "550894  36831559                                       KozFest 2019  Festival   \n",
       "550895  36831559                                       KozFest 2019  Festival   \n",
       "550896  37071524  Electric Moon with Enos at The Lexington (July...   Concert   \n",
       "550897  37071524  Electric Moon with Enos at The Lexington (July...   Concert   \n",
       "\n",
       "                                                 eventURI eventAgeRestriction  \\\n",
       "0       http://www.songkick.com/concerts/36847829-demo...  No Age Restriction   \n",
       "1       http://www.songkick.com/concerts/36847829-demo...  No Age Restriction   \n",
       "2       http://www.songkick.com/concerts/38968714-dend...  No Age Restriction   \n",
       "3       http://www.songkick.com/concerts/38968714-dend...  No Age Restriction   \n",
       "4       http://www.songkick.com/concerts/39131439-prim...  No Age Restriction   \n",
       "...                                                   ...                 ...   \n",
       "550893  http://www.songkick.com/festivals/432168-kozfe...  No Age Restriction   \n",
       "550894  http://www.songkick.com/festivals/432168-kozfe...  No Age Restriction   \n",
       "550895  http://www.songkick.com/festivals/432168-kozfe...  No Age Restriction   \n",
       "550896  http://www.songkick.com/concerts/37071524-elec...  No Age Restriction   \n",
       "550897  http://www.songkick.com/concerts/37071524-elec...  No Age Restriction   \n",
       "\n",
       "                                  artistMBID      venueID eventStartDate  \\\n",
       "0       df074f34-26fc-45fa-adf3-d19836dde2ec  1.25655e+06     30/06/2019   \n",
       "1       b709e093-e90e-45e9-bedb-6fffa602b674  1.25655e+06     30/06/2019   \n",
       "2       b709e093-e90e-45e9-bedb-6fffa602b674  2.84586e+06     05/10/2019   \n",
       "3       86e7205f-c31a-4679-bdc4-4d6c8ea25cbb  2.84586e+06     05/10/2019   \n",
       "4       86e7205f-c31a-4679-bdc4-4d6c8ea25cbb        52106     06/10/2019   \n",
       "...                                      ...          ...            ...   \n",
       "550893  ab6d8a31-49ed-42fb-b4f2-1b979b72c6b9    012345678     26/07/2019   \n",
       "550894  c4c6d9e0-95e3-4e5d-9001-82c15819b037    012345678     26/07/2019   \n",
       "550895  2c10156c-87e0-48a4-97bc-beea3af610e5    012345678     26/07/2019   \n",
       "550896  23e24bc1-d1c5-4a66-b59e-b6696501b999        34372     26/07/2019   \n",
       "550897  0a45f017-cd62-47be-88c8-9d006825f5b5        34372     26/07/2019   \n",
       "\n",
       "       eventStartTime venueCountry  eventFlaggedAsEnded  \n",
       "0            19:30:00           UK                 True  \n",
       "1            19:30:00           UK                 True  \n",
       "2            19:00:00           UK                 True  \n",
       "3            19:00:00           UK                 True  \n",
       "4            19:00:00           UK                 True  \n",
       "...               ...          ...                  ...  \n",
       "550893       00:00:00           UK                 True  \n",
       "550894       00:00:00           UK                 True  \n",
       "550895       00:00:00           UK                 True  \n",
       "550896       19:30:00           UK                 True  \n",
       "550897       19:30:00           UK                 True  \n",
       "\n",
       "[550898 rows x 11 columns]"
      ]
     },
     "execution_count": 38,
     "metadata": {},
     "output_type": "execute_result"
    }
   ],
   "source": [
    "ukEvents"
   ]
  },
  {
   "cell_type": "code",
   "execution_count": 39,
   "metadata": {},
   "outputs": [],
   "source": [
    "ukEvents.to_csv('Clean data/ukEvents.csv', index=False)"
   ]
  }
 ],
 "metadata": {
  "kernelspec": {
   "display_name": "Python 3",
   "language": "python",
   "name": "python3"
  },
  "language_info": {
   "codemirror_mode": {
    "name": "ipython",
    "version": 3
   },
   "file_extension": ".py",
   "mimetype": "text/x-python",
   "name": "python",
   "nbconvert_exporter": "python",
   "pygments_lexer": "ipython3",
   "version": "3.7.4"
  }
 },
 "nbformat": 4,
 "nbformat_minor": 2
}
