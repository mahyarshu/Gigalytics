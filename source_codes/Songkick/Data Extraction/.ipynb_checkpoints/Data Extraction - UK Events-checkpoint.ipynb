{
 "cells": [
  {
   "cell_type": "markdown",
   "metadata": {},
   "source": [
    "# Data Extraction: UK Events between 1 March 2019 and 29 February 2020"
   ]
  },
  {
   "cell_type": "code",
   "execution_count": 2,
   "metadata": {},
   "outputs": [],
   "source": [
    "import requests\n",
    "import json\n",
    "import pandas as pd\n",
    "from pandas.io.json import json_normalize\n",
    "import time\n",
    "API_KEY = 'HPeybaQQsB9TAlBW'\n",
    "eventsAttributes = ['eventID', 'eventName', 'eventType', 'eventURI', 'eventAgeRestriction', 'artistMBID', 'venueID' , 'eventStartDate', 'eventStartTime', 'venueCountry', 'eventFlaggedAsEnded']\n",
    "eventsDataArray = []\n",
    "activeArtist = pd.read_csv(\"ActiveArtists.csv\")\n",
    "mbid = activeArtist.gid"
   ]
  },
  {
   "cell_type": "code",
   "execution_count": 3,
   "metadata": {},
   "outputs": [   
   ],
   "source": [
    "for i in mbid:\n",
    "    try:\n",
    "        venueScheduleRequest = requests.get('https://api.songkick.com/api/3.0/artists/mbid:' + str(i)  + ' /gigography.json?apikey=' + API_KEY +'&min_date=2019-03-01&max_date=2020-02-29')\n",
    "    except:\n",
    "        print(\"Connection refused by the server..\")\n",
    "        print(\"Let me sleep for 240 seconds\")\n",
    "        print(\"ZZzzzz...\")\n",
    "        time.sleep(180)\n",
    "        print(\"Was a nice sleep, now let me continue...\")\n",
    "        venueScheduleRequest = requests.get('https://api.songkick.com/api/3.0/artists/mbid:' + str(i)  + ' /gigography.json?apikey=' + API_KEY +'&min_date=2019-03-01&max_date=2020-02-29')\n",
    "    jsonData = json.loads(venueScheduleRequest.text)\n",
    "    try:\n",
    "        artistEvents = json_normalize(data = jsonData['resultsPage'], record_path = ['results','event'], errors='ignore',)\n",
    "    except:\n",
    "        continue\n",
    "    for x in range (len(artistEvents)):\n",
    "        counter = 0\n",
    "        for i in artistEvents.performance[x]:\n",
    "            try:\n",
    "                if artistEvents['venue.metroArea.country.displayName'][x] == 'UK':\n",
    "                    eventsData = [artistEvents.id[x], artistEvents.displayName[x], artistEvents.type[x], artistEvents.uri[x], artistEvents.ageRestriction[x], artistEvents.performance[x][counter]['artist']['identifier'][0]['mbid'], artistEvents['venue.id'][x], artistEvents['start.date'][x], artistEvents['start.time'][x], artistEvents['venue.metroArea.country.displayName'][x], artistEvents['flaggedAsEnded'][x]]\n",
    "                    eventsDataArray.append(eventsData)\n",
    "                    counter = counter + 1\n",
    "            except:\n",
    "                continue\n",
    "myEvents = pd.DataFrame(data = eventsDataArray, columns = eventsAttributes)\n",
    "myEvents.to_csv('ukEvents.csv', index=False)"
   ]
  },
  {
   "cell_type": "code",
   "execution_count": null,
   "metadata": {},
   "outputs": [],
   "source": []
  }
 ],
 "metadata": {
  "kernelspec": {
   "display_name": "Python 3",
   "language": "python",
   "name": "python3"
  },
  "language_info": {
   "codemirror_mode": {
    "name": "ipython",
    "version": 3
   },
   "file_extension": ".py",
   "mimetype": "text/x-python",
   "name": "python",
   "nbconvert_exporter": "python",
   "pygments_lexer": "ipython3",
   "version": "3.7.4"
  }
 },
 "nbformat": 4,
 "nbformat_minor": 2
}
