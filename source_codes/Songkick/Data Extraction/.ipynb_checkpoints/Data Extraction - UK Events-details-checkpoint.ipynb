{
 "cells": [
  {
   "cell_type": "markdown",
   "metadata": {},
   "source": [
    "# Data Extraction: UK Events details between 1 March 2019 and 29 February 2020"
   ]
  },
  {
   "cell_type": "code",
   "execution_count": 3,
   "metadata": {},
   "outputs": [
    {
     "ename": "AttributeError",
     "evalue": "'DataFrame' object has no attribute 'gid'",
     "output_type": "error",
     "traceback": [
      "\u001b[1;31m---------------------------------------------------------------------------\u001b[0m",
      "\u001b[1;31mAttributeError\u001b[0m                            Traceback (most recent call last)",
      "\u001b[1;32m<ipython-input-3-66c6d2244a0b>\u001b[0m in \u001b[0;36m<module>\u001b[1;34m\u001b[0m\n\u001b[0;32m      8\u001b[0m \u001b[0meventsDataArray\u001b[0m \u001b[1;33m=\u001b[0m \u001b[1;33m[\u001b[0m\u001b[1;33m]\u001b[0m\u001b[1;33m\u001b[0m\u001b[1;33m\u001b[0m\u001b[0m\n\u001b[0;32m      9\u001b[0m \u001b[0mactiveArtist\u001b[0m \u001b[1;33m=\u001b[0m \u001b[0mpd\u001b[0m\u001b[1;33m.\u001b[0m\u001b[0mread_csv\u001b[0m\u001b[1;33m(\u001b[0m\u001b[1;34m\"../../../datasets/ukEvents.csv\"\u001b[0m\u001b[1;33m)\u001b[0m\u001b[1;33m\u001b[0m\u001b[1;33m\u001b[0m\u001b[0m\n\u001b[1;32m---> 10\u001b[1;33m \u001b[0mmbid\u001b[0m \u001b[1;33m=\u001b[0m \u001b[0mactiveArtist\u001b[0m\u001b[1;33m.\u001b[0m\u001b[0mgid\u001b[0m\u001b[1;33m\u001b[0m\u001b[1;33m\u001b[0m\u001b[0m\n\u001b[0m",
      "\u001b[1;32m~\\Anaconda3\\lib\\site-packages\\pandas\\core\\generic.py\u001b[0m in \u001b[0;36m__getattr__\u001b[1;34m(self, name)\u001b[0m\n\u001b[0;32m   5177\u001b[0m             \u001b[1;32mif\u001b[0m \u001b[0mself\u001b[0m\u001b[1;33m.\u001b[0m\u001b[0m_info_axis\u001b[0m\u001b[1;33m.\u001b[0m\u001b[0m_can_hold_identifiers_and_holds_name\u001b[0m\u001b[1;33m(\u001b[0m\u001b[0mname\u001b[0m\u001b[1;33m)\u001b[0m\u001b[1;33m:\u001b[0m\u001b[1;33m\u001b[0m\u001b[1;33m\u001b[0m\u001b[0m\n\u001b[0;32m   5178\u001b[0m                 \u001b[1;32mreturn\u001b[0m \u001b[0mself\u001b[0m\u001b[1;33m[\u001b[0m\u001b[0mname\u001b[0m\u001b[1;33m]\u001b[0m\u001b[1;33m\u001b[0m\u001b[1;33m\u001b[0m\u001b[0m\n\u001b[1;32m-> 5179\u001b[1;33m             \u001b[1;32mreturn\u001b[0m \u001b[0mobject\u001b[0m\u001b[1;33m.\u001b[0m\u001b[0m__getattribute__\u001b[0m\u001b[1;33m(\u001b[0m\u001b[0mself\u001b[0m\u001b[1;33m,\u001b[0m \u001b[0mname\u001b[0m\u001b[1;33m)\u001b[0m\u001b[1;33m\u001b[0m\u001b[1;33m\u001b[0m\u001b[0m\n\u001b[0m\u001b[0;32m   5180\u001b[0m \u001b[1;33m\u001b[0m\u001b[0m\n\u001b[0;32m   5181\u001b[0m     \u001b[1;32mdef\u001b[0m \u001b[0m__setattr__\u001b[0m\u001b[1;33m(\u001b[0m\u001b[0mself\u001b[0m\u001b[1;33m,\u001b[0m \u001b[0mname\u001b[0m\u001b[1;33m,\u001b[0m \u001b[0mvalue\u001b[0m\u001b[1;33m)\u001b[0m\u001b[1;33m:\u001b[0m\u001b[1;33m\u001b[0m\u001b[1;33m\u001b[0m\u001b[0m\n",
      "\u001b[1;31mAttributeError\u001b[0m: 'DataFrame' object has no attribute 'gid'"
     ]
    }
   ],
   "source": [
    "import requests\n",
    "import json\n",
    "import pandas as pd\n",
    "from pandas.io.json import json_normalize\n",
    "import time\n",
    "API_KEY = 'HPeybaQQsB9TAlBW'\n",
    "eventsAttributes = ['eventID', 'eventName', 'eventType', 'eventURI', 'eventAgeRestriction', 'artistMBID', 'venueID' , 'eventStartDate', 'eventStartTime', 'venueCountry', 'eventFlaggedAsEnded']\n",
    "eventsDataArray = []\n",
    "ukEvents = pd.read_csv(\"../../../datasets/ukEvents.csv\")"
   ]
  },
  {
   "cell_type": "code",
   "execution_count": 3,
   "metadata": {},
   "outputs": [],
   "source": [
    "for i in mbid:\n",
    "    try:\n",
    "        venueScheduleRequest = requests.get('https://api.songkick.com/api/3.0/artists/mbid:' + str(i)  + ' /gigography.json?apikey=' + API_KEY +'&min_date=2019-03-01&max_date=2020-02-29')\n",
    "    except:\n",
    "        print(\"Connection refused by the server..\")\n",
    "        print(\"Let me sleep for 240 seconds\")\n",
    "        print(\"ZZzzzz...\")\n",
    "        time.sleep(180)\n",
    "        print(\"Was a nice sleep, now let me continue...\")\n",
    "        venueScheduleRequest = requests.get('https://api.songkick.com/api/3.0/artists/mbid:' + str(i)  + ' /gigography.json?apikey=' + API_KEY +'&min_date=2019-03-01&max_date=2020-02-29')\n",
    "    jsonData = json.loads(venueScheduleRequest.text)\n",
    "    try:\n",
    "        artistEvents = json_normalize(data = jsonData['resultsPage'], record_path = ['results','event'], errors='ignore',)\n",
    "    except:\n",
    "        continue\n",
    "    for x in range (len(artistEvents)):\n",
    "        counter = 0\n",
    "        for i in artistEvents.performance[x]:\n",
    "            try:\n",
    "                if artistEvents['venue.metroArea.country.displayName'][x] == 'UK':\n",
    "                    eventsData = [artistEvents.id[x], artistEvents.displayName[x], artistEvents.type[x], artistEvents.uri[x], artistEvents.ageRestriction[x], artistEvents.performance[x][counter]['artist']['identifier'][0]['mbid'], artistEvents['venue.id'][x], artistEvents['start.date'][x], artistEvents['start.time'][x], artistEvents['venue.metroArea.country.displayName'][x], artistEvents['flaggedAsEnded'][x]]\n",
    "                    eventsDataArray.append(eventsData)\n",
    "                    counter = counter + 1\n",
    "            except:\n",
    "                continue\n",
    "myEvents = pd.DataFrame(data = eventsDataArray, columns = eventsAttributes)\n",
    "myEvents.to_csv('ukEvents.csv', index=False)"
   ]
  },
  {
   "cell_type": "code",
   "execution_count": null,
   "metadata": {},
   "outputs": [],
   "source": []
  }
 ],
 "metadata": {
  "kernelspec": {
   "display_name": "Python 3",
   "language": "python",
   "name": "python3"
  },
  "language_info": {
   "codemirror_mode": {
    "name": "ipython",
    "version": 3
   },
   "file_extension": ".py",
   "mimetype": "text/x-python",
   "name": "python",
   "nbconvert_exporter": "python",
   "pygments_lexer": "ipython3",
   "version": "3.7.4"
  }
 },
 "nbformat": 4,
 "nbformat_minor": 4
}
