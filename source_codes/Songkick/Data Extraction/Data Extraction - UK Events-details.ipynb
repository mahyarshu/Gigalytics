{
 "cells": [
  {
   "cell_type": "markdown",
   "metadata": {},
   "source": [
    "# Data Extraction: UK Events details between 1 March 2019 and 29 February 2020"
   ]
  },
  {
   "cell_type": "code",
   "execution_count": 8,
   "metadata": {},
   "outputs": [],
   "source": [
    "import requests\n",
    "import json\n",
    "import pandas as pd\n",
    "from pandas.io.json import json_normalize\n",
    "import time\n",
    "API_KEY = 'HPeybaQQsB9TAlBW'\n",
    "eventsDataArray = []\n",
    "ukEvents = pd.read_csv(\"../../../datasets/ukEvents_withName.csv\")\n",
    "pd = ukEvents['eventId'].unique()"
   ]
  },
  {
   "cell_type": "code",
   "execution_count": null,
   "metadata": {},
   "outputs": [],
   "source": [
    "event = requests.get('https://api.songkick.com/api/3.0/events/' + str(36847829   )  + ' .json?apikey=' + API_KEY)\n",
    "jsonData = event.json()\n",
    "jsonData['resultsPage']['results']['event']"
   ]
  },
  {
   "cell_type": "code",
   "execution_count": null,
   "metadata": {},
   "outputs": [],
   "source": [
    "eventsAttributes = ['id', 'displayName', 'type', 'uri', 'status', 'popularity', 'start' , 'performance', 'ageRestriction', 'venue']\n",
    "print(len(eventsDataArray))"
   ]
  },
  {
   "cell_type": "code",
   "execution_count": null,
   "metadata": {},
   "outputs": [],
   "source": [
    "i = 0\n",
    "for row in pd:\n",
    "    try:\n",
    "        event = requests.get('https://api.songkick.com/api/3.0/events/' + str(row)  + ' .json?apikey=' + API_KEY)\n",
    "        jsonData = event.json()\n",
    "        #print()\n",
    "        eventsDataArray.append(jsonData['resultsPage']['results']['event'])\n",
    "        i = i + 1\n",
    "        if (i % 50 == 0):\n",
    "            print(i)\n",
    "    except:\n",
    "        print(\"Connection refused by the server..\")\n",
    "        print(\"Let me sleep for 240 seconds\")\n",
    "        print(\"ZZzzzz...\")\n",
    "        time.sleep(180)\n",
    "        print(\"Was a nice sleep, now let me continue...\")"
   ]
  },
  {
   "cell_type": "code",
   "execution_count": null,
   "metadata": {},
   "outputs": [],
   "source": [
    "import pandas as pd\n",
    "myEventDetails = pd.DataFrame(data = eventsDataArray, columns = eventsAttributes)\n",
    "#myEventDetails.to_csv('ukEventsDetails.csv', index=False)"
   ]
  },
  {
   "cell_type": "code",
   "execution_count": null,
   "metadata": {},
   "outputs": [],
   "source": [
    "myEventDetails.head()"
   ]
  },
  {
   "cell_type": "code",
   "execution_count": null,
   "metadata": {},
   "outputs": [],
   "source": [
    "myEventDetails[myEventDetails['popularity'] >= 0.7]"
   ]
  },
  {
   "cell_type": "code",
   "execution_count": 13,
   "metadata": {},
   "outputs": [],
   "source": [
    "ukEvents.to_sql(\"songkick_ukEvents_withName\", db_engine, schema=\"public\", if_exists=\"replace\", index=False)"
   ]
  }
 ],
 "metadata": {
  "kernelspec": {
   "display_name": "Python 3",
   "language": "python",
   "name": "python3"
  },
  "language_info": {
   "codemirror_mode": {
    "name": "ipython",
    "version": 3
   },
   "file_extension": ".py",
   "mimetype": "text/x-python",
   "name": "python",
   "nbconvert_exporter": "python",
   "pygments_lexer": "ipython3",
   "version": "3.7.4"
  }
 },
 "nbformat": 4,
 "nbformat_minor": 4
}
